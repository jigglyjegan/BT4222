{
  "nbformat": 4,
  "nbformat_minor": 0,
  "metadata": {
    "colab": {
      "name": "Data preprocessing and Model Building.ipynb",
      "provenance": [],
      "collapsed_sections": [],
      "machine_shape": "hm"
    },
    "kernelspec": {
      "name": "python3",
      "display_name": "Python 3"
    },
    "language_info": {
      "name": "python"
    },
    "accelerator": "GPU"
  },
  "cells": [
    {
      "cell_type": "code",
      "execution_count": 1,
      "metadata": {
        "colab": {
          "base_uri": "https://localhost:8080/"
        },
        "id": "U7NuMLKwMxqX",
        "outputId": "79c3ac0b-062b-449e-e1a9-70936c19fc31"
      },
      "outputs": [
        {
          "output_type": "stream",
          "name": "stdout",
          "text": [
            "Drive already mounted at /content/drive; to attempt to forcibly remount, call drive.mount(\"/content/drive\", force_remount=True).\n"
          ]
        }
      ],
      "source": [
        "from google.colab import drive\n",
        "drive.mount('/content/drive')"
      ]
    },
    {
      "cell_type": "code",
      "source": [
        "import numpy as np\n",
        "import json\n",
        "import datetime \n",
        "import os\n",
        "import pandas as pd\n",
        "import seaborn as sns\n",
        "import matplotlib.pyplot as plt\n",
        "import tensorflow as tf\n",
        "import requests\n",
        "from tensorflow.keras import Sequential\n",
        "from tensorflow.keras.layers import Dense\n",
        "from sklearn.model_selection import train_test_split\n",
        "from sklearn.preprocessing import StandardScaler\n",
        "from sklearn.linear_model import LinearRegression\n",
        "from sklearn.tree import DecisionTreeRegressor\n",
        "from sklearn.svm import SVR\n",
        "from sklearn.ensemble import RandomForestRegressor, StackingRegressor\n",
        "from sklearn.metrics import r2_score\n",
        "from sklearn.metrics import mean_squared_error\n",
        "from sklearn.model_selection import TimeSeriesSplit\n",
        "from sklearn.model_selection import cross_val_score\n",
        "from sklearn.model_selection import GridSearchCV\n",
        "from sklearn.model_selection import RandomizedSearchCV"
      ],
      "metadata": {
        "id": "U6cm2xFsM_Yf"
      },
      "execution_count": 2,
      "outputs": []
    },
    {
      "cell_type": "code",
      "source": [
        "# Make results reproducible\n",
        "def set_seeds(seed=0):\n",
        "    os.environ['PYTHONHASHSEED'] = str(seed)\n",
        "    tf.random.set_seed(seed)\n",
        "\n",
        "def set_global_determinism(seed=0):\n",
        "    set_seeds(seed=seed)\n",
        "\n",
        "    os.environ['TF_DETERMINISTIC_OPS'] = '1'\n",
        "    os.environ['TF_CUDNN_DETERMINISTIC'] = '1'\n",
        "    \n",
        "    tf.config.threading.set_inter_op_parallelism_threads(1)\n",
        "    tf.config.threading.set_intra_op_parallelism_threads(1)\n",
        "\n",
        "# Call the above function with seed value\n",
        "set_global_determinism(0)"
      ],
      "metadata": {
        "id": "5wD3X1nONDZt"
      },
      "execution_count": 3,
      "outputs": []
    },
    {
      "cell_type": "markdown",
      "source": [
        "## Model Building"
      ],
      "metadata": {
        "id": "2BhQfOMmLntI"
      }
    },
    {
      "cell_type": "code",
      "source": [
        "df_final = pd.read_csv('/content/drive/MyDrive/BT4222/hdb data with distances.csv', index_col = 0)"
      ],
      "metadata": {
        "id": "lD3Naw9FWKsY"
      },
      "execution_count": 4,
      "outputs": []
    },
    {
      "cell_type": "code",
      "source": [
        "df_final"
      ],
      "metadata": {
        "colab": {
          "base_uri": "https://localhost:8080/",
          "height": 921
        },
        "id": "wf6Lyp3RYCQN",
        "outputId": "387c0ebe-e6c0-41e3-c00a-5c15a892958b"
      },
      "execution_count": 5,
      "outputs": [
        {
          "output_type": "execute_result",
          "data": {
            "text/plain": [
              "             month             town flat_type block        street_name  \\\n",
              "0       2017-01-01       ANG MO KIO    2 ROOM   406  ANG MO KIO AVE 10   \n",
              "1       2017-05-01       ANG MO KIO    2 ROOM   406  ANG MO KIO AVE 10   \n",
              "2       2018-03-01       ANG MO KIO    2 ROOM   406  ANG MO KIO AVE 10   \n",
              "3       2018-03-01       ANG MO KIO    2 ROOM   406  ANG MO KIO AVE 10   \n",
              "4       2018-05-01       ANG MO KIO    2 ROOM   406  ANG MO KIO AVE 10   \n",
              "...            ...              ...       ...   ...                ...   \n",
              "120461  2022-02-01      BUKIT MERAH    4 ROOM  110A           DEPOT RD   \n",
              "120462  2022-02-01  KALLANG/WHAMPOA    3 ROOM    49        JLN BAHAGIA   \n",
              "120463  2022-02-01        SEMBAWANG    5 ROOM  121A        CANBERRA ST   \n",
              "120464  2022-02-01         TAMPINES    3 ROOM   844     TAMPINES ST 82   \n",
              "120465  2022-02-01           YISHUN    4 ROOM  502C       YISHUN ST 51   \n",
              "\n",
              "       storey_range  floor_area_sqm  flat_model  lease_commence_date  \\\n",
              "0          10 TO 12            44.0    Improved                 1979   \n",
              "1          10 TO 12            44.0    Improved                 1979   \n",
              "2          01 TO 03            44.0    Improved                 1979   \n",
              "3          01 TO 03            44.0    Improved                 1979   \n",
              "4          07 TO 09            44.0    Improved                 1979   \n",
              "...             ...             ...         ...                  ...   \n",
              "120461     01 TO 03            92.0     Model A                 2017   \n",
              "120462     01 TO 03            80.0     Terrace                 1972   \n",
              "120463     13 TO 15           113.0    Improved                 2018   \n",
              "120464     04 TO 06            64.0  Simplified                 1985   \n",
              "120465     01 TO 03            92.0     Model A                 2018   \n",
              "\n",
              "        remaining_lease  ...  latitude   longitude                nearest mrt  \\\n",
              "0             61.333333  ...  1.362005  103.853880     Ang Mo Kio MRT Station   \n",
              "1             61.083333  ...  1.362005  103.853880     Ang Mo Kio MRT Station   \n",
              "2             60.166667  ...  1.362005  103.853880     Ang Mo Kio MRT Station   \n",
              "3             60.166667  ...  1.362005  103.853880     Ang Mo Kio MRT Station   \n",
              "4             60.083333  ...  1.362005  103.853880     Ang Mo Kio MRT Station   \n",
              "...                 ...  ...       ...         ...                        ...   \n",
              "120461        94.750000  ...  1.281428  103.809243  Telok Blangah MRT Station   \n",
              "120462        49.416667  ...  1.327660  103.856373      Boon Keng MRT Station   \n",
              "120463        95.000000  ...  1.447602  103.833518       Canberra MRT Station   \n",
              "120464        62.500000  ...  1.352103  103.936534       Tampines MRT Station   \n",
              "120465        95.000000  ...  1.417323  103.841554         Khatib MRT Station   \n",
              "\n",
              "        dist to nearest mrt               nearest school  \\\n",
              "0                  1.003997    Townsville Primary School   \n",
              "1                  1.003997    Townsville Primary School   \n",
              "2                  1.003997    Townsville Primary School   \n",
              "3                  1.003997    Townsville Primary School   \n",
              "4                  1.003997    Townsville Primary School   \n",
              "...                     ...                          ...   \n",
              "120461             1.193602  Blangah Rise Primary School   \n",
              "120462             1.065611              Hong Wen School   \n",
              "120463             0.658068               Chongfu School   \n",
              "120464             0.762443   St. Hilda's Primary School   \n",
              "120465             0.953151    Naval Base Primary School   \n",
              "\n",
              "        dist to nearest school       nearest mall  dist to nearest mall  \\\n",
              "0                     0.185706            AMK Hub              1.003115   \n",
              "1                     0.185706            AMK Hub              1.003115   \n",
              "2                     0.185706            AMK Hub              1.003115   \n",
              "3                     0.185706            AMK Hub              1.003115   \n",
              "4                     0.185706            AMK Hub              1.003115   \n",
              "...                        ...                ...                   ...   \n",
              "120461                0.592914  Alexandra Central              0.805653   \n",
              "120462                0.678932            HDB Hub              0.875751   \n",
              "120463                1.189041     Canberra Plaza              0.587766   \n",
              "120464                0.342722   Our Tampines Hub              0.492275   \n",
              "120465                0.348981      Wisteria Mall              0.083069   \n",
              "\n",
              "       dist to cbd  matured  \n",
              "0         8.237463        1  \n",
              "1         8.237463        1  \n",
              "2         8.237463        1  \n",
              "3         8.237463        1  \n",
              "4         8.237463        1  \n",
              "...            ...      ...  \n",
              "120461    4.784510        1  \n",
              "120462    4.444582        1  \n",
              "120463   17.867919        0  \n",
              "120464   11.817074        1  \n",
              "120465   14.430197        0  \n",
              "\n",
              "[120466 rows x 22 columns]"
            ],
            "text/html": [
              "\n",
              "  <div id=\"df-68cda02b-dc26-47f6-b192-eeced1f9852f\">\n",
              "    <div class=\"colab-df-container\">\n",
              "      <div>\n",
              "<style scoped>\n",
              "    .dataframe tbody tr th:only-of-type {\n",
              "        vertical-align: middle;\n",
              "    }\n",
              "\n",
              "    .dataframe tbody tr th {\n",
              "        vertical-align: top;\n",
              "    }\n",
              "\n",
              "    .dataframe thead th {\n",
              "        text-align: right;\n",
              "    }\n",
              "</style>\n",
              "<table border=\"1\" class=\"dataframe\">\n",
              "  <thead>\n",
              "    <tr style=\"text-align: right;\">\n",
              "      <th></th>\n",
              "      <th>month</th>\n",
              "      <th>town</th>\n",
              "      <th>flat_type</th>\n",
              "      <th>block</th>\n",
              "      <th>street_name</th>\n",
              "      <th>storey_range</th>\n",
              "      <th>floor_area_sqm</th>\n",
              "      <th>flat_model</th>\n",
              "      <th>lease_commence_date</th>\n",
              "      <th>remaining_lease</th>\n",
              "      <th>...</th>\n",
              "      <th>latitude</th>\n",
              "      <th>longitude</th>\n",
              "      <th>nearest mrt</th>\n",
              "      <th>dist to nearest mrt</th>\n",
              "      <th>nearest school</th>\n",
              "      <th>dist to nearest school</th>\n",
              "      <th>nearest mall</th>\n",
              "      <th>dist to nearest mall</th>\n",
              "      <th>dist to cbd</th>\n",
              "      <th>matured</th>\n",
              "    </tr>\n",
              "  </thead>\n",
              "  <tbody>\n",
              "    <tr>\n",
              "      <th>0</th>\n",
              "      <td>2017-01-01</td>\n",
              "      <td>ANG MO KIO</td>\n",
              "      <td>2 ROOM</td>\n",
              "      <td>406</td>\n",
              "      <td>ANG MO KIO AVE 10</td>\n",
              "      <td>10 TO 12</td>\n",
              "      <td>44.0</td>\n",
              "      <td>Improved</td>\n",
              "      <td>1979</td>\n",
              "      <td>61.333333</td>\n",
              "      <td>...</td>\n",
              "      <td>1.362005</td>\n",
              "      <td>103.853880</td>\n",
              "      <td>Ang Mo Kio MRT Station</td>\n",
              "      <td>1.003997</td>\n",
              "      <td>Townsville Primary School</td>\n",
              "      <td>0.185706</td>\n",
              "      <td>AMK Hub</td>\n",
              "      <td>1.003115</td>\n",
              "      <td>8.237463</td>\n",
              "      <td>1</td>\n",
              "    </tr>\n",
              "    <tr>\n",
              "      <th>1</th>\n",
              "      <td>2017-05-01</td>\n",
              "      <td>ANG MO KIO</td>\n",
              "      <td>2 ROOM</td>\n",
              "      <td>406</td>\n",
              "      <td>ANG MO KIO AVE 10</td>\n",
              "      <td>10 TO 12</td>\n",
              "      <td>44.0</td>\n",
              "      <td>Improved</td>\n",
              "      <td>1979</td>\n",
              "      <td>61.083333</td>\n",
              "      <td>...</td>\n",
              "      <td>1.362005</td>\n",
              "      <td>103.853880</td>\n",
              "      <td>Ang Mo Kio MRT Station</td>\n",
              "      <td>1.003997</td>\n",
              "      <td>Townsville Primary School</td>\n",
              "      <td>0.185706</td>\n",
              "      <td>AMK Hub</td>\n",
              "      <td>1.003115</td>\n",
              "      <td>8.237463</td>\n",
              "      <td>1</td>\n",
              "    </tr>\n",
              "    <tr>\n",
              "      <th>2</th>\n",
              "      <td>2018-03-01</td>\n",
              "      <td>ANG MO KIO</td>\n",
              "      <td>2 ROOM</td>\n",
              "      <td>406</td>\n",
              "      <td>ANG MO KIO AVE 10</td>\n",
              "      <td>01 TO 03</td>\n",
              "      <td>44.0</td>\n",
              "      <td>Improved</td>\n",
              "      <td>1979</td>\n",
              "      <td>60.166667</td>\n",
              "      <td>...</td>\n",
              "      <td>1.362005</td>\n",
              "      <td>103.853880</td>\n",
              "      <td>Ang Mo Kio MRT Station</td>\n",
              "      <td>1.003997</td>\n",
              "      <td>Townsville Primary School</td>\n",
              "      <td>0.185706</td>\n",
              "      <td>AMK Hub</td>\n",
              "      <td>1.003115</td>\n",
              "      <td>8.237463</td>\n",
              "      <td>1</td>\n",
              "    </tr>\n",
              "    <tr>\n",
              "      <th>3</th>\n",
              "      <td>2018-03-01</td>\n",
              "      <td>ANG MO KIO</td>\n",
              "      <td>2 ROOM</td>\n",
              "      <td>406</td>\n",
              "      <td>ANG MO KIO AVE 10</td>\n",
              "      <td>01 TO 03</td>\n",
              "      <td>44.0</td>\n",
              "      <td>Improved</td>\n",
              "      <td>1979</td>\n",
              "      <td>60.166667</td>\n",
              "      <td>...</td>\n",
              "      <td>1.362005</td>\n",
              "      <td>103.853880</td>\n",
              "      <td>Ang Mo Kio MRT Station</td>\n",
              "      <td>1.003997</td>\n",
              "      <td>Townsville Primary School</td>\n",
              "      <td>0.185706</td>\n",
              "      <td>AMK Hub</td>\n",
              "      <td>1.003115</td>\n",
              "      <td>8.237463</td>\n",
              "      <td>1</td>\n",
              "    </tr>\n",
              "    <tr>\n",
              "      <th>4</th>\n",
              "      <td>2018-05-01</td>\n",
              "      <td>ANG MO KIO</td>\n",
              "      <td>2 ROOM</td>\n",
              "      <td>406</td>\n",
              "      <td>ANG MO KIO AVE 10</td>\n",
              "      <td>07 TO 09</td>\n",
              "      <td>44.0</td>\n",
              "      <td>Improved</td>\n",
              "      <td>1979</td>\n",
              "      <td>60.083333</td>\n",
              "      <td>...</td>\n",
              "      <td>1.362005</td>\n",
              "      <td>103.853880</td>\n",
              "      <td>Ang Mo Kio MRT Station</td>\n",
              "      <td>1.003997</td>\n",
              "      <td>Townsville Primary School</td>\n",
              "      <td>0.185706</td>\n",
              "      <td>AMK Hub</td>\n",
              "      <td>1.003115</td>\n",
              "      <td>8.237463</td>\n",
              "      <td>1</td>\n",
              "    </tr>\n",
              "    <tr>\n",
              "      <th>...</th>\n",
              "      <td>...</td>\n",
              "      <td>...</td>\n",
              "      <td>...</td>\n",
              "      <td>...</td>\n",
              "      <td>...</td>\n",
              "      <td>...</td>\n",
              "      <td>...</td>\n",
              "      <td>...</td>\n",
              "      <td>...</td>\n",
              "      <td>...</td>\n",
              "      <td>...</td>\n",
              "      <td>...</td>\n",
              "      <td>...</td>\n",
              "      <td>...</td>\n",
              "      <td>...</td>\n",
              "      <td>...</td>\n",
              "      <td>...</td>\n",
              "      <td>...</td>\n",
              "      <td>...</td>\n",
              "      <td>...</td>\n",
              "      <td>...</td>\n",
              "    </tr>\n",
              "    <tr>\n",
              "      <th>120461</th>\n",
              "      <td>2022-02-01</td>\n",
              "      <td>BUKIT MERAH</td>\n",
              "      <td>4 ROOM</td>\n",
              "      <td>110A</td>\n",
              "      <td>DEPOT RD</td>\n",
              "      <td>01 TO 03</td>\n",
              "      <td>92.0</td>\n",
              "      <td>Model A</td>\n",
              "      <td>2017</td>\n",
              "      <td>94.750000</td>\n",
              "      <td>...</td>\n",
              "      <td>1.281428</td>\n",
              "      <td>103.809243</td>\n",
              "      <td>Telok Blangah MRT Station</td>\n",
              "      <td>1.193602</td>\n",
              "      <td>Blangah Rise Primary School</td>\n",
              "      <td>0.592914</td>\n",
              "      <td>Alexandra Central</td>\n",
              "      <td>0.805653</td>\n",
              "      <td>4.784510</td>\n",
              "      <td>1</td>\n",
              "    </tr>\n",
              "    <tr>\n",
              "      <th>120462</th>\n",
              "      <td>2022-02-01</td>\n",
              "      <td>KALLANG/WHAMPOA</td>\n",
              "      <td>3 ROOM</td>\n",
              "      <td>49</td>\n",
              "      <td>JLN BAHAGIA</td>\n",
              "      <td>01 TO 03</td>\n",
              "      <td>80.0</td>\n",
              "      <td>Terrace</td>\n",
              "      <td>1972</td>\n",
              "      <td>49.416667</td>\n",
              "      <td>...</td>\n",
              "      <td>1.327660</td>\n",
              "      <td>103.856373</td>\n",
              "      <td>Boon Keng MRT Station</td>\n",
              "      <td>1.065611</td>\n",
              "      <td>Hong Wen School</td>\n",
              "      <td>0.678932</td>\n",
              "      <td>HDB Hub</td>\n",
              "      <td>0.875751</td>\n",
              "      <td>4.444582</td>\n",
              "      <td>1</td>\n",
              "    </tr>\n",
              "    <tr>\n",
              "      <th>120463</th>\n",
              "      <td>2022-02-01</td>\n",
              "      <td>SEMBAWANG</td>\n",
              "      <td>5 ROOM</td>\n",
              "      <td>121A</td>\n",
              "      <td>CANBERRA ST</td>\n",
              "      <td>13 TO 15</td>\n",
              "      <td>113.0</td>\n",
              "      <td>Improved</td>\n",
              "      <td>2018</td>\n",
              "      <td>95.000000</td>\n",
              "      <td>...</td>\n",
              "      <td>1.447602</td>\n",
              "      <td>103.833518</td>\n",
              "      <td>Canberra MRT Station</td>\n",
              "      <td>0.658068</td>\n",
              "      <td>Chongfu School</td>\n",
              "      <td>1.189041</td>\n",
              "      <td>Canberra Plaza</td>\n",
              "      <td>0.587766</td>\n",
              "      <td>17.867919</td>\n",
              "      <td>0</td>\n",
              "    </tr>\n",
              "    <tr>\n",
              "      <th>120464</th>\n",
              "      <td>2022-02-01</td>\n",
              "      <td>TAMPINES</td>\n",
              "      <td>3 ROOM</td>\n",
              "      <td>844</td>\n",
              "      <td>TAMPINES ST 82</td>\n",
              "      <td>04 TO 06</td>\n",
              "      <td>64.0</td>\n",
              "      <td>Simplified</td>\n",
              "      <td>1985</td>\n",
              "      <td>62.500000</td>\n",
              "      <td>...</td>\n",
              "      <td>1.352103</td>\n",
              "      <td>103.936534</td>\n",
              "      <td>Tampines MRT Station</td>\n",
              "      <td>0.762443</td>\n",
              "      <td>St. Hilda's Primary School</td>\n",
              "      <td>0.342722</td>\n",
              "      <td>Our Tampines Hub</td>\n",
              "      <td>0.492275</td>\n",
              "      <td>11.817074</td>\n",
              "      <td>1</td>\n",
              "    </tr>\n",
              "    <tr>\n",
              "      <th>120465</th>\n",
              "      <td>2022-02-01</td>\n",
              "      <td>YISHUN</td>\n",
              "      <td>4 ROOM</td>\n",
              "      <td>502C</td>\n",
              "      <td>YISHUN ST 51</td>\n",
              "      <td>01 TO 03</td>\n",
              "      <td>92.0</td>\n",
              "      <td>Model A</td>\n",
              "      <td>2018</td>\n",
              "      <td>95.000000</td>\n",
              "      <td>...</td>\n",
              "      <td>1.417323</td>\n",
              "      <td>103.841554</td>\n",
              "      <td>Khatib MRT Station</td>\n",
              "      <td>0.953151</td>\n",
              "      <td>Naval Base Primary School</td>\n",
              "      <td>0.348981</td>\n",
              "      <td>Wisteria Mall</td>\n",
              "      <td>0.083069</td>\n",
              "      <td>14.430197</td>\n",
              "      <td>0</td>\n",
              "    </tr>\n",
              "  </tbody>\n",
              "</table>\n",
              "<p>120466 rows × 22 columns</p>\n",
              "</div>\n",
              "      <button class=\"colab-df-convert\" onclick=\"convertToInteractive('df-68cda02b-dc26-47f6-b192-eeced1f9852f')\"\n",
              "              title=\"Convert this dataframe to an interactive table.\"\n",
              "              style=\"display:none;\">\n",
              "        \n",
              "  <svg xmlns=\"http://www.w3.org/2000/svg\" height=\"24px\"viewBox=\"0 0 24 24\"\n",
              "       width=\"24px\">\n",
              "    <path d=\"M0 0h24v24H0V0z\" fill=\"none\"/>\n",
              "    <path d=\"M18.56 5.44l.94 2.06.94-2.06 2.06-.94-2.06-.94-.94-2.06-.94 2.06-2.06.94zm-11 1L8.5 8.5l.94-2.06 2.06-.94-2.06-.94L8.5 2.5l-.94 2.06-2.06.94zm10 10l.94 2.06.94-2.06 2.06-.94-2.06-.94-.94-2.06-.94 2.06-2.06.94z\"/><path d=\"M17.41 7.96l-1.37-1.37c-.4-.4-.92-.59-1.43-.59-.52 0-1.04.2-1.43.59L10.3 9.45l-7.72 7.72c-.78.78-.78 2.05 0 2.83L4 21.41c.39.39.9.59 1.41.59.51 0 1.02-.2 1.41-.59l7.78-7.78 2.81-2.81c.8-.78.8-2.07 0-2.86zM5.41 20L4 18.59l7.72-7.72 1.47 1.35L5.41 20z\"/>\n",
              "  </svg>\n",
              "      </button>\n",
              "      \n",
              "  <style>\n",
              "    .colab-df-container {\n",
              "      display:flex;\n",
              "      flex-wrap:wrap;\n",
              "      gap: 12px;\n",
              "    }\n",
              "\n",
              "    .colab-df-convert {\n",
              "      background-color: #E8F0FE;\n",
              "      border: none;\n",
              "      border-radius: 50%;\n",
              "      cursor: pointer;\n",
              "      display: none;\n",
              "      fill: #1967D2;\n",
              "      height: 32px;\n",
              "      padding: 0 0 0 0;\n",
              "      width: 32px;\n",
              "    }\n",
              "\n",
              "    .colab-df-convert:hover {\n",
              "      background-color: #E2EBFA;\n",
              "      box-shadow: 0px 1px 2px rgba(60, 64, 67, 0.3), 0px 1px 3px 1px rgba(60, 64, 67, 0.15);\n",
              "      fill: #174EA6;\n",
              "    }\n",
              "\n",
              "    [theme=dark] .colab-df-convert {\n",
              "      background-color: #3B4455;\n",
              "      fill: #D2E3FC;\n",
              "    }\n",
              "\n",
              "    [theme=dark] .colab-df-convert:hover {\n",
              "      background-color: #434B5C;\n",
              "      box-shadow: 0px 1px 3px 1px rgba(0, 0, 0, 0.15);\n",
              "      filter: drop-shadow(0px 1px 2px rgba(0, 0, 0, 0.3));\n",
              "      fill: #FFFFFF;\n",
              "    }\n",
              "  </style>\n",
              "\n",
              "      <script>\n",
              "        const buttonEl =\n",
              "          document.querySelector('#df-68cda02b-dc26-47f6-b192-eeced1f9852f button.colab-df-convert');\n",
              "        buttonEl.style.display =\n",
              "          google.colab.kernel.accessAllowed ? 'block' : 'none';\n",
              "\n",
              "        async function convertToInteractive(key) {\n",
              "          const element = document.querySelector('#df-68cda02b-dc26-47f6-b192-eeced1f9852f');\n",
              "          const dataTable =\n",
              "            await google.colab.kernel.invokeFunction('convertToInteractive',\n",
              "                                                     [key], {});\n",
              "          if (!dataTable) return;\n",
              "\n",
              "          const docLinkHtml = 'Like what you see? Visit the ' +\n",
              "            '<a target=\"_blank\" href=https://colab.research.google.com/notebooks/data_table.ipynb>data table notebook</a>'\n",
              "            + ' to learn more about interactive tables.';\n",
              "          element.innerHTML = '';\n",
              "          dataTable['output_type'] = 'display_data';\n",
              "          await google.colab.output.renderOutput(dataTable, element);\n",
              "          const docLink = document.createElement('div');\n",
              "          docLink.innerHTML = docLinkHtml;\n",
              "          element.appendChild(docLink);\n",
              "        }\n",
              "      </script>\n",
              "    </div>\n",
              "  </div>\n",
              "  "
            ]
          },
          "metadata": {},
          "execution_count": 5
        }
      ]
    },
    {
      "cell_type": "code",
      "source": [
        "from sklearn.preprocessing import LabelEncoder"
      ],
      "metadata": {
        "id": "ASV7S2fwY_66"
      },
      "execution_count": 6,
      "outputs": []
    },
    {
      "cell_type": "code",
      "source": [
        "le = LabelEncoder()\n",
        "df_final['flat_type coded'] = le.fit_transform(df_final['flat_type'])"
      ],
      "metadata": {
        "id": "6BFPdYOJY6QQ"
      },
      "execution_count": 7,
      "outputs": []
    },
    {
      "cell_type": "code",
      "source": [
        "le.classes_"
      ],
      "metadata": {
        "colab": {
          "base_uri": "https://localhost:8080/"
        },
        "id": "DDJPFHL4axdZ",
        "outputId": "d7bbdc96-1634-4bac-9db6-29b2fbe27bff"
      },
      "execution_count": 8,
      "outputs": [
        {
          "output_type": "execute_result",
          "data": {
            "text/plain": [
              "array(['1 ROOM', '2 ROOM', '3 ROOM', '4 ROOM', '5 ROOM', 'EXECUTIVE',\n",
              "       'MULTI-GENERATION'], dtype=object)"
            ]
          },
          "metadata": {},
          "execution_count": 8
        }
      ]
    },
    {
      "cell_type": "code",
      "source": [
        "le_storey = LabelEncoder()\n",
        "df_final['storey_range coded'] = le_storey.fit_transform(df_final['storey_range'])"
      ],
      "metadata": {
        "id": "yYOY4yTgb7DN"
      },
      "execution_count": 9,
      "outputs": []
    },
    {
      "cell_type": "code",
      "source": [
        "le_storey.classes_"
      ],
      "metadata": {
        "colab": {
          "base_uri": "https://localhost:8080/"
        },
        "id": "q1ewm2QncC2y",
        "outputId": "2be06459-587c-4a79-ef7f-4bef0047df6c"
      },
      "execution_count": 10,
      "outputs": [
        {
          "output_type": "execute_result",
          "data": {
            "text/plain": [
              "array(['01 TO 03', '04 TO 06', '07 TO 09', '10 TO 12', '13 TO 15',\n",
              "       '16 TO 18', '19 TO 21', '22 TO 24', '25 TO 27', '28 TO 30',\n",
              "       '31 TO 33', '34 TO 36', '37 TO 39', '40 TO 42', '43 TO 45',\n",
              "       '46 TO 48', '49 TO 51'], dtype=object)"
            ]
          },
          "metadata": {},
          "execution_count": 10
        }
      ]
    },
    {
      "cell_type": "code",
      "source": [
        "# correlation matrix of the numerical columns\n",
        "plt.figure(figsize=(30,30))\n",
        "sns.heatmap(df_final.corr(), annot=True, cmap = 'coolwarm')"
      ],
      "metadata": {
        "id": "Btk-4N9OHSUW",
        "colab": {
          "base_uri": "https://localhost:8080/",
          "height": 1000
        },
        "outputId": "5ec7b94a-9afa-4b0f-de7e-c46cc4de6fb9"
      },
      "execution_count": 11,
      "outputs": [
        {
          "output_type": "execute_result",
          "data": {
            "text/plain": [
              "<matplotlib.axes._subplots.AxesSubplot at 0x7f9501c94090>"
            ]
          },
          "metadata": {},
          "execution_count": 11
        },
        {
          "output_type": "display_data",
          "data": {
            "text/plain": [
              "<Figure size 2160x2160 with 2 Axes>"
            ],
            "image/png": "[encoded data removed]"
          },
          "metadata": {
            "needs_background": "light"
          }
        }
      ]
    },
    {
      "cell_type": "markdown",
      "source": [
        "From the correlation heatmap, we can see that certain numerical variables are highly correlated with each other. For example, remaining_lease and lease_commencement date has a correlation coefficient of 0.99, which does make sense as the remaining_lease is calculated using 99 - (current year - lease_commencement date). floor_area_sqm has a high correlation coefficient of 0.95 with flat_type coded as well, which is logical because the greater the flat_type, for example 5-room flat, the greater the floor_area_sqm. Hence we choose to drop lease_commencement date and flat_type for the model training"
      ],
      "metadata": {
        "id": "sMe6KwV2a2S6"
      }
    },
    {
      "cell_type": "code",
      "source": [
        "# dummify town and flat_model\n",
        "df_town = pd.get_dummies(df_final['town'], drop_first = True)\n",
        "df_model = pd.get_dummies(df_final['flat_model'], drop_first = True)"
      ],
      "metadata": {
        "id": "UIUGgmVHpwqR"
      },
      "execution_count": 12,
      "outputs": []
    },
    {
      "cell_type": "markdown",
      "source": [
        "### Preparing the data. Since we are using past data to predict future resale prices, we cannot use train_test_split to randomly assign train and test data because the dataset follows a chronological order"
      ],
      "metadata": {
        "id": "mRyXms00mSD3"
      }
    },
    {
      "cell_type": "code",
      "source": [
        "# 80-20 split for train test\n",
        "# get only the features we need\n",
        "X = df_final[['floor_area_sqm', 'remaining_lease', 'dist to nearest mrt', 'dist to nearest school', 'dist to nearest mall', 'dist to cbd', 'matured', 'storey_range coded']]\n",
        "X = pd.concat([X, df_town, df_model], axis = 1)\n",
        "y = df_final['resale_price']\n",
        "\n",
        "train_size = int(len(df_final)*0.8)\n",
        "X_train = X[:train_size]\n",
        "X_test = X[train_size:]\n",
        "\n",
        "y_train = y[:train_size]\n",
        "y_test = y[train_size:]"
      ],
      "metadata": {
        "id": "qx5Ien6ZZP9j"
      },
      "execution_count": 13,
      "outputs": []
    },
    {
      "cell_type": "markdown",
      "source": [
        "## Using individual baseline models \n",
        "### Support Vector Regression, Decision Tree, Linear Regression with Time Series Split"
      ],
      "metadata": {
        "id": "coL5TjeY0ARO"
      }
    },
    {
      "cell_type": "code",
      "source": [
        "regressors = []\n",
        "regressors.extend([('SVR', SVR()),\n",
        "                   ('Decision Tree', DecisionTreeRegressor(random_state = 2022)),\n",
        "                   ('Linear Regression', LinearRegression())])"
      ],
      "metadata": {
        "id": "c_7Oiubf0jl7"
      },
      "execution_count": 15,
      "outputs": []
    },
    {
      "cell_type": "code",
      "source": [
        "X_train"
      ],
      "metadata": {
        "colab": {
          "base_uri": "https://localhost:8080/",
          "height": 522
        },
        "id": "Ds-occNQZUko",
        "outputId": "0b16dd1f-b661-4953-cf86-7a5a7bb474bc"
      },
      "execution_count": 18,
      "outputs": [
        {
          "output_type": "execute_result",
          "data": {
            "text/plain": [
              "       floor_area_sqm  remaining_lease  dist to nearest mrt  \\\n",
              "0                44.0        61.333333             1.003997   \n",
              "1                44.0        61.083333             1.003997   \n",
              "2                44.0        60.166667             1.003997   \n",
              "3                44.0        60.166667             1.003997   \n",
              "4                44.0        60.083333             1.003997   \n",
              "...               ...              ...                  ...   \n",
              "24088           147.0        73.166667             1.453837   \n",
              "24089           148.0        73.000000             1.453837   \n",
              "24090           146.0        72.000000             1.453837   \n",
              "24091           147.0        71.666667             1.453837   \n",
              "24092           145.0        71.166667             1.453837   \n",
              "\n",
              "       dist to nearest school  dist to nearest mall  dist to cbd  matured  \\\n",
              "0                    0.185706              1.003115     8.237463        1   \n",
              "1                    0.185706              1.003115     8.237463        1   \n",
              "2                    0.185706              1.003115     8.237463        1   \n",
              "3                    0.185706              1.003115     8.237463        1   \n",
              "4                    0.185706              1.003115     8.237463        1   \n",
              "...                       ...                   ...          ...      ...   \n",
              "24088                0.202062              0.283008    15.081952        1   \n",
              "24089                0.202062              0.283008    15.081952        1   \n",
              "24090                0.202062              0.283008    15.081952        1   \n",
              "24091                0.202062              0.283008    15.081952        1   \n",
              "24092                0.202062              0.283008    15.081952        1   \n",
              "\n",
              "       storey_range coded  BEDOK  BISHAN  ...  Multi Generation  \\\n",
              "0                       3      0       0  ...                 0   \n",
              "1                       3      0       0  ...                 0   \n",
              "2                       0      0       0  ...                 0   \n",
              "3                       0      0       0  ...                 0   \n",
              "4                       2      0       0  ...                 0   \n",
              "...                   ...    ...     ...  ...               ...   \n",
              "24088                   3      0       0  ...                 0   \n",
              "24089                   0      0       0  ...                 0   \n",
              "24090                   1      0       0  ...                 0   \n",
              "24091                   0      0       0  ...                 0   \n",
              "24092                   1      0       0  ...                 0   \n",
              "\n",
              "       New Generation  Premium Apartment  Premium Apartment Loft  \\\n",
              "0                   0                  0                       0   \n",
              "1                   0                  0                       0   \n",
              "2                   0                  0                       0   \n",
              "3                   0                  0                       0   \n",
              "4                   0                  0                       0   \n",
              "...               ...                ...                     ...   \n",
              "24088               0                  0                       0   \n",
              "24089               0                  0                       0   \n",
              "24090               0                  0                       0   \n",
              "24091               0                  0                       0   \n",
              "24092               0                  0                       0   \n",
              "\n",
              "       Premium Maisonette  Simplified  Standard  Terrace  Type S1  Type S2  \n",
              "0                       0           0         0        0        0        0  \n",
              "1                       0           0         0        0        0        0  \n",
              "2                       0           0         0        0        0        0  \n",
              "3                       0           0         0        0        0        0  \n",
              "4                       0           0         0        0        0        0  \n",
              "...                   ...         ...       ...      ...      ...      ...  \n",
              "24088                   0           0         0        0        0        0  \n",
              "24089                   0           0         0        0        0        0  \n",
              "24090                   0           0         0        0        0        0  \n",
              "24091                   0           0         0        0        0        0  \n",
              "24092                   0           0         0        0        0        0  \n",
              "\n",
              "[24093 rows x 52 columns]"
            ],
            "text/html": [
              "\n",
              "  <div id=\"df-7fc8ca3b-8e1b-48eb-bde4-3c5bf7ce66c7\">\n",
              "    <div class=\"colab-df-container\">\n",
              "      <div>\n",
              "<style scoped>\n",
              "    .dataframe tbody tr th:only-of-type {\n",
              "        vertical-align: middle;\n",
              "    }\n",
              "\n",
              "    .dataframe tbody tr th {\n",
              "        vertical-align: top;\n",
              "    }\n",
              "\n",
              "    .dataframe thead th {\n",
              "        text-align: right;\n",
              "    }\n",
              "</style>\n",
              "<table border=\"1\" class=\"dataframe\">\n",
              "  <thead>\n",
              "    <tr style=\"text-align: right;\">\n",
              "      <th></th>\n",
              "      <th>floor_area_sqm</th>\n",
              "      <th>remaining_lease</th>\n",
              "      <th>dist to nearest mrt</th>\n",
              "      <th>dist to nearest school</th>\n",
              "      <th>dist to nearest mall</th>\n",
              "      <th>dist to cbd</th>\n",
              "      <th>matured</th>\n",
              "      <th>storey_range coded</th>\n",
              "      <th>BEDOK</th>\n",
              "      <th>BISHAN</th>\n",
              "      <th>...</th>\n",
              "      <th>Multi Generation</th>\n",
              "      <th>New Generation</th>\n",
              "      <th>Premium Apartment</th>\n",
              "      <th>Premium Apartment Loft</th>\n",
              "      <th>Premium Maisonette</th>\n",
              "      <th>Simplified</th>\n",
              "      <th>Standard</th>\n",
              "      <th>Terrace</th>\n",
              "      <th>Type S1</th>\n",
              "      <th>Type S2</th>\n",
              "    </tr>\n",
              "  </thead>\n",
              "  <tbody>\n",
              "    <tr>\n",
              "      <th>0</th>\n",
              "      <td>44.0</td>\n",
              "      <td>61.333333</td>\n",
              "      <td>1.003997</td>\n",
              "      <td>0.185706</td>\n",
              "      <td>1.003115</td>\n",
              "      <td>8.237463</td>\n",
              "      <td>1</td>\n",
              "      <td>3</td>\n",
              "      <td>0</td>\n",
              "      <td>0</td>\n",
              "      <td>...</td>\n",
              "      <td>0</td>\n",
              "      <td>0</td>\n",
              "      <td>0</td>\n",
              "      <td>0</td>\n",
              "      <td>0</td>\n",
              "      <td>0</td>\n",
              "      <td>0</td>\n",
              "      <td>0</td>\n",
              "      <td>0</td>\n",
              "      <td>0</td>\n",
              "    </tr>\n",
              "    <tr>\n",
              "      <th>1</th>\n",
              "      <td>44.0</td>\n",
              "      <td>61.083333</td>\n",
              "      <td>1.003997</td>\n",
              "      <td>0.185706</td>\n",
              "      <td>1.003115</td>\n",
              "      <td>8.237463</td>\n",
              "      <td>1</td>\n",
              "      <td>3</td>\n",
              "      <td>0</td>\n",
              "      <td>0</td>\n",
              "      <td>...</td>\n",
              "      <td>0</td>\n",
              "      <td>0</td>\n",
              "      <td>0</td>\n",
              "      <td>0</td>\n",
              "      <td>0</td>\n",
              "      <td>0</td>\n",
              "      <td>0</td>\n",
              "      <td>0</td>\n",
              "      <td>0</td>\n",
              "      <td>0</td>\n",
              "    </tr>\n",
              "    <tr>\n",
              "      <th>2</th>\n",
              "      <td>44.0</td>\n",
              "      <td>60.166667</td>\n",
              "      <td>1.003997</td>\n",
              "      <td>0.185706</td>\n",
              "      <td>1.003115</td>\n",
              "      <td>8.237463</td>\n",
              "      <td>1</td>\n",
              "      <td>0</td>\n",
              "      <td>0</td>\n",
              "      <td>0</td>\n",
              "      <td>...</td>\n",
              "      <td>0</td>\n",
              "      <td>0</td>\n",
              "      <td>0</td>\n",
              "      <td>0</td>\n",
              "      <td>0</td>\n",
              "      <td>0</td>\n",
              "      <td>0</td>\n",
              "      <td>0</td>\n",
              "      <td>0</td>\n",
              "      <td>0</td>\n",
              "    </tr>\n",
              "    <tr>\n",
              "      <th>3</th>\n",
              "      <td>44.0</td>\n",
              "      <td>60.166667</td>\n",
              "      <td>1.003997</td>\n",
              "      <td>0.185706</td>\n",
              "      <td>1.003115</td>\n",
              "      <td>8.237463</td>\n",
              "      <td>1</td>\n",
              "      <td>0</td>\n",
              "      <td>0</td>\n",
              "      <td>0</td>\n",
              "      <td>...</td>\n",
              "      <td>0</td>\n",
              "      <td>0</td>\n",
              "      <td>0</td>\n",
              "      <td>0</td>\n",
              "      <td>0</td>\n",
              "      <td>0</td>\n",
              "      <td>0</td>\n",
              "      <td>0</td>\n",
              "      <td>0</td>\n",
              "      <td>0</td>\n",
              "    </tr>\n",
              "    <tr>\n",
              "      <th>4</th>\n",
              "      <td>44.0</td>\n",
              "      <td>60.083333</td>\n",
              "      <td>1.003997</td>\n",
              "      <td>0.185706</td>\n",
              "      <td>1.003115</td>\n",
              "      <td>8.237463</td>\n",
              "      <td>1</td>\n",
              "      <td>2</td>\n",
              "      <td>0</td>\n",
              "      <td>0</td>\n",
              "      <td>...</td>\n",
              "      <td>0</td>\n",
              "      <td>0</td>\n",
              "      <td>0</td>\n",
              "      <td>0</td>\n",
              "      <td>0</td>\n",
              "      <td>0</td>\n",
              "      <td>0</td>\n",
              "      <td>0</td>\n",
              "      <td>0</td>\n",
              "      <td>0</td>\n",
              "    </tr>\n",
              "    <tr>\n",
              "      <th>...</th>\n",
              "      <td>...</td>\n",
              "      <td>...</td>\n",
              "      <td>...</td>\n",
              "      <td>...</td>\n",
              "      <td>...</td>\n",
              "      <td>...</td>\n",
              "      <td>...</td>\n",
              "      <td>...</td>\n",
              "      <td>...</td>\n",
              "      <td>...</td>\n",
              "      <td>...</td>\n",
              "      <td>...</td>\n",
              "      <td>...</td>\n",
              "      <td>...</td>\n",
              "      <td>...</td>\n",
              "      <td>...</td>\n",
              "      <td>...</td>\n",
              "      <td>...</td>\n",
              "      <td>...</td>\n",
              "      <td>...</td>\n",
              "      <td>...</td>\n",
              "    </tr>\n",
              "    <tr>\n",
              "      <th>24088</th>\n",
              "      <td>147.0</td>\n",
              "      <td>73.166667</td>\n",
              "      <td>1.453837</td>\n",
              "      <td>0.202062</td>\n",
              "      <td>0.283008</td>\n",
              "      <td>15.081952</td>\n",
              "      <td>1</td>\n",
              "      <td>3</td>\n",
              "      <td>0</td>\n",
              "      <td>0</td>\n",
              "      <td>...</td>\n",
              "      <td>0</td>\n",
              "      <td>0</td>\n",
              "      <td>0</td>\n",
              "      <td>0</td>\n",
              "      <td>0</td>\n",
              "      <td>0</td>\n",
              "      <td>0</td>\n",
              "      <td>0</td>\n",
              "      <td>0</td>\n",
              "      <td>0</td>\n",
              "    </tr>\n",
              "    <tr>\n",
              "      <th>24089</th>\n",
              "      <td>148.0</td>\n",
              "      <td>73.000000</td>\n",
              "      <td>1.453837</td>\n",
              "      <td>0.202062</td>\n",
              "      <td>0.283008</td>\n",
              "      <td>15.081952</td>\n",
              "      <td>1</td>\n",
              "      <td>0</td>\n",
              "      <td>0</td>\n",
              "      <td>0</td>\n",
              "      <td>...</td>\n",
              "      <td>0</td>\n",
              "      <td>0</td>\n",
              "      <td>0</td>\n",
              "      <td>0</td>\n",
              "      <td>0</td>\n",
              "      <td>0</td>\n",
              "      <td>0</td>\n",
              "      <td>0</td>\n",
              "      <td>0</td>\n",
              "      <td>0</td>\n",
              "    </tr>\n",
              "    <tr>\n",
              "      <th>24090</th>\n",
              "      <td>146.0</td>\n",
              "      <td>72.000000</td>\n",
              "      <td>1.453837</td>\n",
              "      <td>0.202062</td>\n",
              "      <td>0.283008</td>\n",
              "      <td>15.081952</td>\n",
              "      <td>1</td>\n",
              "      <td>1</td>\n",
              "      <td>0</td>\n",
              "      <td>0</td>\n",
              "      <td>...</td>\n",
              "      <td>0</td>\n",
              "      <td>0</td>\n",
              "      <td>0</td>\n",
              "      <td>0</td>\n",
              "      <td>0</td>\n",
              "      <td>0</td>\n",
              "      <td>0</td>\n",
              "      <td>0</td>\n",
              "      <td>0</td>\n",
              "      <td>0</td>\n",
              "    </tr>\n",
              "    <tr>\n",
              "      <th>24091</th>\n",
              "      <td>147.0</td>\n",
              "      <td>71.666667</td>\n",
              "      <td>1.453837</td>\n",
              "      <td>0.202062</td>\n",
              "      <td>0.283008</td>\n",
              "      <td>15.081952</td>\n",
              "      <td>1</td>\n",
              "      <td>0</td>\n",
              "      <td>0</td>\n",
              "      <td>0</td>\n",
              "      <td>...</td>\n",
              "      <td>0</td>\n",
              "      <td>0</td>\n",
              "      <td>0</td>\n",
              "      <td>0</td>\n",
              "      <td>0</td>\n",
              "      <td>0</td>\n",
              "      <td>0</td>\n",
              "      <td>0</td>\n",
              "      <td>0</td>\n",
              "      <td>0</td>\n",
              "    </tr>\n",
              "    <tr>\n",
              "      <th>24092</th>\n",
              "      <td>145.0</td>\n",
              "      <td>71.166667</td>\n",
              "      <td>1.453837</td>\n",
              "      <td>0.202062</td>\n",
              "      <td>0.283008</td>\n",
              "      <td>15.081952</td>\n",
              "      <td>1</td>\n",
              "      <td>1</td>\n",
              "      <td>0</td>\n",
              "      <td>0</td>\n",
              "      <td>...</td>\n",
              "      <td>0</td>\n",
              "      <td>0</td>\n",
              "      <td>0</td>\n",
              "      <td>0</td>\n",
              "      <td>0</td>\n",
              "      <td>0</td>\n",
              "      <td>0</td>\n",
              "      <td>0</td>\n",
              "      <td>0</td>\n",
              "      <td>0</td>\n",
              "    </tr>\n",
              "  </tbody>\n",
              "</table>\n",
              "<p>24093 rows × 52 columns</p>\n",
              "</div>\n",
              "      <button class=\"colab-df-convert\" onclick=\"convertToInteractive('df-7fc8ca3b-8e1b-48eb-bde4-3c5bf7ce66c7')\"\n",
              "              title=\"Convert this dataframe to an interactive table.\"\n",
              "              style=\"display:none;\">\n",
              "        \n",
              "  <svg xmlns=\"http://www.w3.org/2000/svg\" height=\"24px\"viewBox=\"0 0 24 24\"\n",
              "       width=\"24px\">\n",
              "    <path d=\"M0 0h24v24H0V0z\" fill=\"none\"/>\n",
              "    <path d=\"M18.56 5.44l.94 2.06.94-2.06 2.06-.94-2.06-.94-.94-2.06-.94 2.06-2.06.94zm-11 1L8.5 8.5l.94-2.06 2.06-.94-2.06-.94L8.5 2.5l-.94 2.06-2.06.94zm10 10l.94 2.06.94-2.06 2.06-.94-2.06-.94-.94-2.06-.94 2.06-2.06.94z\"/><path d=\"M17.41 7.96l-1.37-1.37c-.4-.4-.92-.59-1.43-.59-.52 0-1.04.2-1.43.59L10.3 9.45l-7.72 7.72c-.78.78-.78 2.05 0 2.83L4 21.41c.39.39.9.59 1.41.59.51 0 1.02-.2 1.41-.59l7.78-7.78 2.81-2.81c.8-.78.8-2.07 0-2.86zM5.41 20L4 18.59l7.72-7.72 1.47 1.35L5.41 20z\"/>\n",
              "  </svg>\n",
              "      </button>\n",
              "      \n",
              "  <style>\n",
              "    .colab-df-container {\n",
              "      display:flex;\n",
              "      flex-wrap:wrap;\n",
              "      gap: 12px;\n",
              "    }\n",
              "\n",
              "    .colab-df-convert {\n",
              "      background-color: #E8F0FE;\n",
              "      border: none;\n",
              "      border-radius: 50%;\n",
              "      cursor: pointer;\n",
              "      display: none;\n",
              "      fill: #1967D2;\n",
              "      height: 32px;\n",
              "      padding: 0 0 0 0;\n",
              "      width: 32px;\n",
              "    }\n",
              "\n",
              "    .colab-df-convert:hover {\n",
              "      background-color: #E2EBFA;\n",
              "      box-shadow: 0px 1px 2px rgba(60, 64, 67, 0.3), 0px 1px 3px 1px rgba(60, 64, 67, 0.15);\n",
              "      fill: #174EA6;\n",
              "    }\n",
              "\n",
              "    [theme=dark] .colab-df-convert {\n",
              "      background-color: #3B4455;\n",
              "      fill: #D2E3FC;\n",
              "    }\n",
              "\n",
              "    [theme=dark] .colab-df-convert:hover {\n",
              "      background-color: #434B5C;\n",
              "      box-shadow: 0px 1px 3px 1px rgba(0, 0, 0, 0.15);\n",
              "      filter: drop-shadow(0px 1px 2px rgba(0, 0, 0, 0.3));\n",
              "      fill: #FFFFFF;\n",
              "    }\n",
              "  </style>\n",
              "\n",
              "      <script>\n",
              "        const buttonEl =\n",
              "          document.querySelector('#df-7fc8ca3b-8e1b-48eb-bde4-3c5bf7ce66c7 button.colab-df-convert');\n",
              "        buttonEl.style.display =\n",
              "          google.colab.kernel.accessAllowed ? 'block' : 'none';\n",
              "\n",
              "        async function convertToInteractive(key) {\n",
              "          const element = document.querySelector('#df-7fc8ca3b-8e1b-48eb-bde4-3c5bf7ce66c7');\n",
              "          const dataTable =\n",
              "            await google.colab.kernel.invokeFunction('convertToInteractive',\n",
              "                                                     [key], {});\n",
              "          if (!dataTable) return;\n",
              "\n",
              "          const docLinkHtml = 'Like what you see? Visit the ' +\n",
              "            '<a target=\"_blank\" href=https://colab.research.google.com/notebooks/data_table.ipynb>data table notebook</a>'\n",
              "            + ' to learn more about interactive tables.';\n",
              "          element.innerHTML = '';\n",
              "          dataTable['output_type'] = 'display_data';\n",
              "          await google.colab.output.renderOutput(dataTable, element);\n",
              "          const docLink = document.createElement('div');\n",
              "          docLink.innerHTML = docLinkHtml;\n",
              "          element.appendChild(docLink);\n",
              "        }\n",
              "      </script>\n",
              "    </div>\n",
              "  </div>\n",
              "  "
            ]
          },
          "metadata": {},
          "execution_count": 18
        }
      ]
    },
    {
      "cell_type": "code",
      "source": [
        "r2_scores = []\n",
        "rmse_scores = []\n",
        "regressor_name = []\n",
        "for regressor in regressors:\n",
        "    tscv = TimeSeriesSplit(n_splits=3)\n",
        "    all_y_preds = []\n",
        "    all_y_true = []\n",
        "    for train_index, test_index in tscv.split(X):\n",
        "        X_train, X_test = X[train_index[0]:train_index[-1]+1], X[test_index[0]:test_index[-1]+1]\n",
        "        y_train, y_test = y[train_index[0]:train_index[-1]+1], y[test_index[0]:test_index[-1]+1]\n",
        "        regressor[1].fit(X_train, y_train)\n",
        "        y_preds = regressor[1].predict(X_test)\n",
        "        all_y_preds.extend(y_preds)\n",
        "        all_y_true.extend(y_test)\n",
        "    r2_scores.append(r2_score(all_y_true,all_y_preds))\n",
        "    rmse_scores.append(np.sqrt(mean_squared_error(all_y_true, all_y_preds)))\n",
        "    regressor_name.append(regressor[0])"
      ],
      "metadata": {
        "id": "-fCDHEhk1oMg"
      },
      "execution_count": 19,
      "outputs": []
    },
    {
      "cell_type": "code",
      "source": [
        "train_val_results = pd.DataFrame([regressor_name, r2_scores, rmse_scores]).transpose().rename(columns = {0: 'Model', 1: 'R-squared', 2: 'RMSE'}).sort_values(by = 'RMSE', ascending = False)"
      ],
      "metadata": {
        "id": "R8FWYGqk3Ko3"
      },
      "execution_count": 20,
      "outputs": []
    },
    {
      "cell_type": "code",
      "source": [
        "train_val_results"
      ],
      "metadata": {
        "colab": {
          "base_uri": "https://localhost:8080/",
          "height": 143
        },
        "id": "NXnr67K42TD-",
        "outputId": "235ccca5-9460-4c96-fba0-829e46ffeefe"
      },
      "execution_count": 21,
      "outputs": [
        {
          "output_type": "execute_result",
          "data": {
            "text/plain": [
              "               Model R-squared           RMSE\n",
              "0                SVR -0.106107  165327.755994\n",
              "1      Decision Tree  0.810372   68453.916911\n",
              "2  Linear Regression  0.845993   61690.383497"
            ],
            "text/html": [
              "\n",
              "  <div id=\"df-5d4c1e99-8cee-44e6-b70e-bf60030a86b7\">\n",
              "    <div class=\"colab-df-container\">\n",
              "      <div>\n",
              "<style scoped>\n",
              "    .dataframe tbody tr th:only-of-type {\n",
              "        vertical-align: middle;\n",
              "    }\n",
              "\n",
              "    .dataframe tbody tr th {\n",
              "        vertical-align: top;\n",
              "    }\n",
              "\n",
              "    .dataframe thead th {\n",
              "        text-align: right;\n",
              "    }\n",
              "</style>\n",
              "<table border=\"1\" class=\"dataframe\">\n",
              "  <thead>\n",
              "    <tr style=\"text-align: right;\">\n",
              "      <th></th>\n",
              "      <th>Model</th>\n",
              "      <th>R-squared</th>\n",
              "      <th>RMSE</th>\n",
              "    </tr>\n",
              "  </thead>\n",
              "  <tbody>\n",
              "    <tr>\n",
              "      <th>0</th>\n",
              "      <td>SVR</td>\n",
              "      <td>-0.106107</td>\n",
              "      <td>165327.755994</td>\n",
              "    </tr>\n",
              "    <tr>\n",
              "      <th>1</th>\n",
              "      <td>Decision Tree</td>\n",
              "      <td>0.810372</td>\n",
              "      <td>68453.916911</td>\n",
              "    </tr>\n",
              "    <tr>\n",
              "      <th>2</th>\n",
              "      <td>Linear Regression</td>\n",
              "      <td>0.845993</td>\n",
              "      <td>61690.383497</td>\n",
              "    </tr>\n",
              "  </tbody>\n",
              "</table>\n",
              "</div>\n",
              "      <button class=\"colab-df-convert\" onclick=\"convertToInteractive('df-5d4c1e99-8cee-44e6-b70e-bf60030a86b7')\"\n",
              "              title=\"Convert this dataframe to an interactive table.\"\n",
              "              style=\"display:none;\">\n",
              "        \n",
              "  <svg xmlns=\"http://www.w3.org/2000/svg\" height=\"24px\"viewBox=\"0 0 24 24\"\n",
              "       width=\"24px\">\n",
              "    <path d=\"M0 0h24v24H0V0z\" fill=\"none\"/>\n",
              "    <path d=\"M18.56 5.44l.94 2.06.94-2.06 2.06-.94-2.06-.94-.94-2.06-.94 2.06-2.06.94zm-11 1L8.5 8.5l.94-2.06 2.06-.94-2.06-.94L8.5 2.5l-.94 2.06-2.06.94zm10 10l.94 2.06.94-2.06 2.06-.94-2.06-.94-.94-2.06-.94 2.06-2.06.94z\"/><path d=\"M17.41 7.96l-1.37-1.37c-.4-.4-.92-.59-1.43-.59-.52 0-1.04.2-1.43.59L10.3 9.45l-7.72 7.72c-.78.78-.78 2.05 0 2.83L4 21.41c.39.39.9.59 1.41.59.51 0 1.02-.2 1.41-.59l7.78-7.78 2.81-2.81c.8-.78.8-2.07 0-2.86zM5.41 20L4 18.59l7.72-7.72 1.47 1.35L5.41 20z\"/>\n",
              "  </svg>\n",
              "      </button>\n",
              "      \n",
              "  <style>\n",
              "    .colab-df-container {\n",
              "      display:flex;\n",
              "      flex-wrap:wrap;\n",
              "      gap: 12px;\n",
              "    }\n",
              "\n",
              "    .colab-df-convert {\n",
              "      background-color: #E8F0FE;\n",
              "      border: none;\n",
              "      border-radius: 50%;\n",
              "      cursor: pointer;\n",
              "      display: none;\n",
              "      fill: #1967D2;\n",
              "      height: 32px;\n",
              "      padding: 0 0 0 0;\n",
              "      width: 32px;\n",
              "    }\n",
              "\n",
              "    .colab-df-convert:hover {\n",
              "      background-color: #E2EBFA;\n",
              "      box-shadow: 0px 1px 2px rgba(60, 64, 67, 0.3), 0px 1px 3px 1px rgba(60, 64, 67, 0.15);\n",
              "      fill: #174EA6;\n",
              "    }\n",
              "\n",
              "    [theme=dark] .colab-df-convert {\n",
              "      background-color: #3B4455;\n",
              "      fill: #D2E3FC;\n",
              "    }\n",
              "\n",
              "    [theme=dark] .colab-df-convert:hover {\n",
              "      background-color: #434B5C;\n",
              "      box-shadow: 0px 1px 3px 1px rgba(0, 0, 0, 0.15);\n",
              "      filter: drop-shadow(0px 1px 2px rgba(0, 0, 0, 0.3));\n",
              "      fill: #FFFFFF;\n",
              "    }\n",
              "  </style>\n",
              "\n",
              "      <script>\n",
              "        const buttonEl =\n",
              "          document.querySelector('#df-5d4c1e99-8cee-44e6-b70e-bf60030a86b7 button.colab-df-convert');\n",
              "        buttonEl.style.display =\n",
              "          google.colab.kernel.accessAllowed ? 'block' : 'none';\n",
              "\n",
              "        async function convertToInteractive(key) {\n",
              "          const element = document.querySelector('#df-5d4c1e99-8cee-44e6-b70e-bf60030a86b7');\n",
              "          const dataTable =\n",
              "            await google.colab.kernel.invokeFunction('convertToInteractive',\n",
              "                                                     [key], {});\n",
              "          if (!dataTable) return;\n",
              "\n",
              "          const docLinkHtml = 'Like what you see? Visit the ' +\n",
              "            '<a target=\"_blank\" href=https://colab.research.google.com/notebooks/data_table.ipynb>data table notebook</a>'\n",
              "            + ' to learn more about interactive tables.';\n",
              "          element.innerHTML = '';\n",
              "          dataTable['output_type'] = 'display_data';\n",
              "          await google.colab.output.renderOutput(dataTable, element);\n",
              "          const docLink = document.createElement('div');\n",
              "          docLink.innerHTML = docLinkHtml;\n",
              "          element.appendChild(docLink);\n",
              "        }\n",
              "      </script>\n",
              "    </div>\n",
              "  </div>\n",
              "  "
            ]
          },
          "metadata": {},
          "execution_count": 21
        }
      ]
    },
    {
      "cell_type": "markdown",
      "source": [
        "## Ensemble methods\n",
        "### Random Forest, Stacking Regressors"
      ],
      "metadata": {
        "id": "4TEMymiDZWWR"
      }
    },
    {
      "cell_type": "code",
      "source": [
        "base_learners = [('SVR', SVR()),\n",
        "                 ('Decision Tree', DecisionTreeRegressor(random_state = 2022)),\n",
        "                 ('Linear Regression', LinearRegression())]"
      ],
      "metadata": {
        "id": "cikt3SvCmn4H"
      },
      "execution_count": 19,
      "outputs": []
    },
    {
      "cell_type": "markdown",
      "source": [
        "### Linear Regression as meta learner"
      ],
      "metadata": {
        "id": "Tum5apbOm4Ak"
      }
    },
    {
      "cell_type": "code",
      "source": [
        "clf_lr = StackingRegressor(estimators = base_learners, final_estimator = LinearRegression())"
      ],
      "metadata": {
        "id": "Pqzmsojqm7jr"
      },
      "execution_count": 20,
      "outputs": []
    },
    {
      "cell_type": "markdown",
      "source": [
        "### Decision Tree as meta learner"
      ],
      "metadata": {
        "id": "_pWILK5tnELT"
      }
    },
    {
      "cell_type": "code",
      "source": [
        "clf_dt = StackingRegressor(estimators = base_learners, final_estimator = DecisionTreeRegressor(random_state = 2022))"
      ],
      "metadata": {
        "id": "5tC83omenGfs"
      },
      "execution_count": 21,
      "outputs": []
    },
    {
      "cell_type": "markdown",
      "source": [
        "### Train the ensemble models"
      ],
      "metadata": {
        "id": "oIaBRrWbnp9P"
      }
    },
    {
      "cell_type": "code",
      "source": [
        "ensembles = []\n",
        "ensembles.extend([('Linear regression as meta learner', clf_lr),\n",
        "                  ('Decision Tree as meta learner', clf_dt),\n",
        "                  ('Random Forest', RandomForestRegressor(random_state = 2022, n_jobs = -1))])"
      ],
      "metadata": {
        "id": "Lim0XOf8ZWIo"
      },
      "execution_count": 22,
      "outputs": []
    },
    {
      "cell_type": "code",
      "source": [
        "r2_scores_ensemble = []\n",
        "rmse_scores_ensemble = []\n",
        "ensemble_name = []\n",
        "for ensemble in ensembles:\n",
        "    tscv = TimeSeriesSplit(n_splits=3)\n",
        "    all_y_preds = []\n",
        "    all_y_true = []\n",
        "    for train_index, test_index in tscv.split(X):\n",
        "        X_train, X_test = X[train_index[0]:train_index[-1]+1], X[test_index[0]:test_index[-1]+1]\n",
        "        y_train, y_test = y[train_index[0]:train_index[-1]+1], y[test_index[0]:test_index[-1]+1]\n",
        "        ensemble[1].fit(X_train, y_train)\n",
        "        y_preds = ensemble[1].predict(X_test)\n",
        "        all_y_preds.extend(y_preds)\n",
        "        all_y_true.extend(y_test)\n",
        "    r2_scores_ensemble.append(r2_score(all_y_true,all_y_preds))\n",
        "    rmse_scores_ensemble.append(np.sqrt(mean_squared_error(all_y_true, all_y_preds)))\n",
        "    ensemble_name.append(ensemble[0])"
      ],
      "metadata": {
        "id": "YP8-pXFXZWFr"
      },
      "execution_count": 23,
      "outputs": []
    },
    {
      "cell_type": "code",
      "source": [
        "ensemble_results = pd.DataFrame([ensemble_name, r2_scores_ensemble, rmse_scores_ensemble]).transpose().rename(columns = {0: 'Model', 1: 'R-squared', 2: 'RMSE'}).sort_values(by = 'RMSE', ascending = False)"
      ],
      "metadata": {
        "id": "dAmqrLgPZV6n"
      },
      "execution_count": 24,
      "outputs": []
    },
    {
      "cell_type": "code",
      "source": [
        "ensemble_results"
      ],
      "metadata": {
        "id": "11xzumuYxt39",
        "colab": {
          "base_uri": "https://localhost:8080/",
          "height": 143
        },
        "outputId": "437b0409-09a9-46bc-bca0-5110ce3afc1a"
      },
      "execution_count": 25,
      "outputs": [
        {
          "output_type": "execute_result",
          "data": {
            "text/plain": [
              "                               Model R-squared          RMSE\n",
              "1      Decision Tree as meta learner  0.793683  71402.716636\n",
              "0  Linear regression as meta learner  0.873331  55947.690612\n",
              "2                      Random Forest  0.878006  54905.654566"
            ],
            "text/html": [
              "\n",
              "  <div id=\"df-c00b53e8-04ec-43fb-a855-3c37af93f706\">\n",
              "    <div class=\"colab-df-container\">\n",
              "      <div>\n",
              "<style scoped>\n",
              "    .dataframe tbody tr th:only-of-type {\n",
              "        vertical-align: middle;\n",
              "    }\n",
              "\n",
              "    .dataframe tbody tr th {\n",
              "        vertical-align: top;\n",
              "    }\n",
              "\n",
              "    .dataframe thead th {\n",
              "        text-align: right;\n",
              "    }\n",
              "</style>\n",
              "<table border=\"1\" class=\"dataframe\">\n",
              "  <thead>\n",
              "    <tr style=\"text-align: right;\">\n",
              "      <th></th>\n",
              "      <th>Model</th>\n",
              "      <th>R-squared</th>\n",
              "      <th>RMSE</th>\n",
              "    </tr>\n",
              "  </thead>\n",
              "  <tbody>\n",
              "    <tr>\n",
              "      <th>1</th>\n",
              "      <td>Decision Tree as meta learner</td>\n",
              "      <td>0.793683</td>\n",
              "      <td>71402.716636</td>\n",
              "    </tr>\n",
              "    <tr>\n",
              "      <th>0</th>\n",
              "      <td>Linear regression as meta learner</td>\n",
              "      <td>0.873331</td>\n",
              "      <td>55947.690612</td>\n",
              "    </tr>\n",
              "    <tr>\n",
              "      <th>2</th>\n",
              "      <td>Random Forest</td>\n",
              "      <td>0.878006</td>\n",
              "      <td>54905.654566</td>\n",
              "    </tr>\n",
              "  </tbody>\n",
              "</table>\n",
              "</div>\n",
              "      <button class=\"colab-df-convert\" onclick=\"convertToInteractive('df-c00b53e8-04ec-43fb-a855-3c37af93f706')\"\n",
              "              title=\"Convert this dataframe to an interactive table.\"\n",
              "              style=\"display:none;\">\n",
              "        \n",
              "  <svg xmlns=\"http://www.w3.org/2000/svg\" height=\"24px\"viewBox=\"0 0 24 24\"\n",
              "       width=\"24px\">\n",
              "    <path d=\"M0 0h24v24H0V0z\" fill=\"none\"/>\n",
              "    <path d=\"M18.56 5.44l.94 2.06.94-2.06 2.06-.94-2.06-.94-.94-2.06-.94 2.06-2.06.94zm-11 1L8.5 8.5l.94-2.06 2.06-.94-2.06-.94L8.5 2.5l-.94 2.06-2.06.94zm10 10l.94 2.06.94-2.06 2.06-.94-2.06-.94-.94-2.06-.94 2.06-2.06.94z\"/><path d=\"M17.41 7.96l-1.37-1.37c-.4-.4-.92-.59-1.43-.59-.52 0-1.04.2-1.43.59L10.3 9.45l-7.72 7.72c-.78.78-.78 2.05 0 2.83L4 21.41c.39.39.9.59 1.41.59.51 0 1.02-.2 1.41-.59l7.78-7.78 2.81-2.81c.8-.78.8-2.07 0-2.86zM5.41 20L4 18.59l7.72-7.72 1.47 1.35L5.41 20z\"/>\n",
              "  </svg>\n",
              "      </button>\n",
              "      \n",
              "  <style>\n",
              "    .colab-df-container {\n",
              "      display:flex;\n",
              "      flex-wrap:wrap;\n",
              "      gap: 12px;\n",
              "    }\n",
              "\n",
              "    .colab-df-convert {\n",
              "      background-color: #E8F0FE;\n",
              "      border: none;\n",
              "      border-radius: 50%;\n",
              "      cursor: pointer;\n",
              "      display: none;\n",
              "      fill: #1967D2;\n",
              "      height: 32px;\n",
              "      padding: 0 0 0 0;\n",
              "      width: 32px;\n",
              "    }\n",
              "\n",
              "    .colab-df-convert:hover {\n",
              "      background-color: #E2EBFA;\n",
              "      box-shadow: 0px 1px 2px rgba(60, 64, 67, 0.3), 0px 1px 3px 1px rgba(60, 64, 67, 0.15);\n",
              "      fill: #174EA6;\n",
              "    }\n",
              "\n",
              "    [theme=dark] .colab-df-convert {\n",
              "      background-color: #3B4455;\n",
              "      fill: #D2E3FC;\n",
              "    }\n",
              "\n",
              "    [theme=dark] .colab-df-convert:hover {\n",
              "      background-color: #434B5C;\n",
              "      box-shadow: 0px 1px 3px 1px rgba(0, 0, 0, 0.15);\n",
              "      filter: drop-shadow(0px 1px 2px rgba(0, 0, 0, 0.3));\n",
              "      fill: #FFFFFF;\n",
              "    }\n",
              "  </style>\n",
              "\n",
              "      <script>\n",
              "        const buttonEl =\n",
              "          document.querySelector('#df-c00b53e8-04ec-43fb-a855-3c37af93f706 button.colab-df-convert');\n",
              "        buttonEl.style.display =\n",
              "          google.colab.kernel.accessAllowed ? 'block' : 'none';\n",
              "\n",
              "        async function convertToInteractive(key) {\n",
              "          const element = document.querySelector('#df-c00b53e8-04ec-43fb-a855-3c37af93f706');\n",
              "          const dataTable =\n",
              "            await google.colab.kernel.invokeFunction('convertToInteractive',\n",
              "                                                     [key], {});\n",
              "          if (!dataTable) return;\n",
              "\n",
              "          const docLinkHtml = 'Like what you see? Visit the ' +\n",
              "            '<a target=\"_blank\" href=https://colab.research.google.com/notebooks/data_table.ipynb>data table notebook</a>'\n",
              "            + ' to learn more about interactive tables.';\n",
              "          element.innerHTML = '';\n",
              "          dataTable['output_type'] = 'display_data';\n",
              "          await google.colab.output.renderOutput(dataTable, element);\n",
              "          const docLink = document.createElement('div');\n",
              "          docLink.innerHTML = docLinkHtml;\n",
              "          element.appendChild(docLink);\n",
              "        }\n",
              "      </script>\n",
              "    </div>\n",
              "  </div>\n",
              "  "
            ]
          },
          "metadata": {},
          "execution_count": 25
        }
      ]
    },
    {
      "cell_type": "markdown",
      "source": [
        "## Gradient Boosting models"
      ],
      "metadata": {
        "id": "q2LxRC4P98_a"
      }
    },
    {
      "cell_type": "code",
      "source": [
        "!pip install xgboost\n",
        "!pip install lightgbm"
      ],
      "metadata": {
        "colab": {
          "base_uri": "https://localhost:8080/"
        },
        "id": "M4ZPMOAR_hcl",
        "outputId": "ed2cb411-6eed-47f1-dc7c-750d80554c0a"
      },
      "execution_count": 28,
      "outputs": [
        {
          "output_type": "stream",
          "name": "stdout",
          "text": [
            "Requirement already satisfied: xgboost in /usr/local/lib/python3.7/dist-packages (0.90)\n",
            "Requirement already satisfied: numpy in /usr/local/lib/python3.7/dist-packages (from xgboost) (1.21.5)\n",
            "Requirement already satisfied: scipy in /usr/local/lib/python3.7/dist-packages (from xgboost) (1.4.1)\n",
            "Requirement already satisfied: lightgbm in /usr/local/lib/python3.7/dist-packages (2.2.3)\n",
            "Requirement already satisfied: numpy in /usr/local/lib/python3.7/dist-packages (from lightgbm) (1.21.5)\n",
            "Requirement already satisfied: scikit-learn in /usr/local/lib/python3.7/dist-packages (from lightgbm) (1.0.2)\n",
            "Requirement already satisfied: scipy in /usr/local/lib/python3.7/dist-packages (from lightgbm) (1.4.1)\n",
            "Requirement already satisfied: threadpoolctl>=2.0.0 in /usr/local/lib/python3.7/dist-packages (from scikit-learn->lightgbm) (3.1.0)\n",
            "Requirement already satisfied: joblib>=0.11 in /usr/local/lib/python3.7/dist-packages (from scikit-learn->lightgbm) (1.1.0)\n"
          ]
        }
      ]
    },
    {
      "cell_type": "code",
      "source": [
        "from xgboost import XGBRegressor\n",
        "from sklearn.ensemble import GradientBoostingRegressor\n",
        "from lightgbm import LGBMRegressor\n",
        "import lightgbm"
      ],
      "metadata": {
        "id": "RZHF0-Th_pBm"
      },
      "execution_count": 39,
      "outputs": []
    },
    {
      "cell_type": "code",
      "source": [
        "boosters = []\n",
        "boosters.extend([('XGBoost', XGBRegressor()),\n",
        "                  ('Gradient Boosting', GradientBoostingRegressor()),\n",
        "                  ('Light Gradient Boosting', LGBMRegressor())])"
      ],
      "metadata": {
        "id": "-ZtHecFb_o-N"
      },
      "execution_count": 15,
      "outputs": []
    },
    {
      "cell_type": "code",
      "source": [
        "r2_scores_booster = []\n",
        "rmse_scores_booster = []\n",
        "booster_name = []\n",
        "for booster in boosters:\n",
        "    tscv = TimeSeriesSplit(n_splits=3)\n",
        "    all_y_preds = []\n",
        "    all_y_true = []\n",
        "    for train_index, test_index in tscv.split(X):\n",
        "        X_train, X_test = X[train_index[0]:train_index[-1]+1], X[test_index[0]:test_index[-1]+1]\n",
        "        y_train, y_test = y[train_index[0]:train_index[-1]+1], y[test_index[0]:test_index[-1]+1]\n",
        "        booster[1].fit(X_train, y_train)\n",
        "        y_preds = booster[1].predict(X_test)\n",
        "        all_y_preds.extend(y_preds)\n",
        "        all_y_true.extend(y_test)\n",
        "    r2_scores_booster.append(r2_score(all_y_true,all_y_preds))\n",
        "    rmse_scores_booster.append(np.sqrt(mean_squared_error(all_y_true, all_y_preds)))\n",
        "    booster_name.append(booster[0])"
      ],
      "metadata": {
        "colab": {
          "base_uri": "https://localhost:8080/"
        },
        "id": "m1BhZo1I_oku",
        "outputId": "7a46498c-c7a9-4af9-b173-4343839cea0d"
      },
      "execution_count": 16,
      "outputs": [
        {
          "output_type": "stream",
          "name": "stdout",
          "text": [
            "[05:04:07] WARNING: /workspace/src/objective/regression_obj.cu:152: reg:linear is now deprecated in favor of reg:squarederror.\n",
            "[05:04:11] WARNING: /workspace/src/objective/regression_obj.cu:152: reg:linear is now deprecated in favor of reg:squarederror.\n",
            "[05:04:18] WARNING: /workspace/src/objective/regression_obj.cu:152: reg:linear is now deprecated in favor of reg:squarederror.\n"
          ]
        }
      ]
    },
    {
      "cell_type": "code",
      "source": [
        "booster_results = pd.DataFrame([booster_name, r2_scores_booster, rmse_scores_booster]).transpose().rename(columns = {0: 'Model', 1: 'R-squared', 2: 'RMSE'}).sort_values(by = 'RMSE', ascending = False)"
      ],
      "metadata": {
        "id": "BS9ZN-w9BGK9"
      },
      "execution_count": 17,
      "outputs": []
    },
    {
      "cell_type": "code",
      "source": [
        "booster_results"
      ],
      "metadata": {
        "colab": {
          "base_uri": "https://localhost:8080/",
          "height": 143
        },
        "id": "nmIgiEzwlPba",
        "outputId": "d972ee10-1ef9-4c90-fa81-71a5a0a26d04"
      },
      "execution_count": 18,
      "outputs": [
        {
          "output_type": "execute_result",
          "data": {
            "text/plain": [
              "                     Model R-squared          RMSE\n",
              "1        Gradient Boosting  0.857353  59371.647954\n",
              "0                  XGBoost  0.858954   59037.44644\n",
              "2  Light Gradient Boosting  0.884807  53353.226908"
            ],
            "text/html": [
              "\n",
              "  <div id=\"df-25ec609e-e9f0-4b47-8d6a-4cb4c93ac929\">\n",
              "    <div class=\"colab-df-container\">\n",
              "      <div>\n",
              "<style scoped>\n",
              "    .dataframe tbody tr th:only-of-type {\n",
              "        vertical-align: middle;\n",
              "    }\n",
              "\n",
              "    .dataframe tbody tr th {\n",
              "        vertical-align: top;\n",
              "    }\n",
              "\n",
              "    .dataframe thead th {\n",
              "        text-align: right;\n",
              "    }\n",
              "</style>\n",
              "<table border=\"1\" class=\"dataframe\">\n",
              "  <thead>\n",
              "    <tr style=\"text-align: right;\">\n",
              "      <th></th>\n",
              "      <th>Model</th>\n",
              "      <th>R-squared</th>\n",
              "      <th>RMSE</th>\n",
              "    </tr>\n",
              "  </thead>\n",
              "  <tbody>\n",
              "    <tr>\n",
              "      <th>1</th>\n",
              "      <td>Gradient Boosting</td>\n",
              "      <td>0.857353</td>\n",
              "      <td>59371.647954</td>\n",
              "    </tr>\n",
              "    <tr>\n",
              "      <th>0</th>\n",
              "      <td>XGBoost</td>\n",
              "      <td>0.858954</td>\n",
              "      <td>59037.44644</td>\n",
              "    </tr>\n",
              "    <tr>\n",
              "      <th>2</th>\n",
              "      <td>Light Gradient Boosting</td>\n",
              "      <td>0.884807</td>\n",
              "      <td>53353.226908</td>\n",
              "    </tr>\n",
              "  </tbody>\n",
              "</table>\n",
              "</div>\n",
              "      <button class=\"colab-df-convert\" onclick=\"convertToInteractive('df-25ec609e-e9f0-4b47-8d6a-4cb4c93ac929')\"\n",
              "              title=\"Convert this dataframe to an interactive table.\"\n",
              "              style=\"display:none;\">\n",
              "        \n",
              "  <svg xmlns=\"http://www.w3.org/2000/svg\" height=\"24px\"viewBox=\"0 0 24 24\"\n",
              "       width=\"24px\">\n",
              "    <path d=\"M0 0h24v24H0V0z\" fill=\"none\"/>\n",
              "    <path d=\"M18.56 5.44l.94 2.06.94-2.06 2.06-.94-2.06-.94-.94-2.06-.94 2.06-2.06.94zm-11 1L8.5 8.5l.94-2.06 2.06-.94-2.06-.94L8.5 2.5l-.94 2.06-2.06.94zm10 10l.94 2.06.94-2.06 2.06-.94-2.06-.94-.94-2.06-.94 2.06-2.06.94z\"/><path d=\"M17.41 7.96l-1.37-1.37c-.4-.4-.92-.59-1.43-.59-.52 0-1.04.2-1.43.59L10.3 9.45l-7.72 7.72c-.78.78-.78 2.05 0 2.83L4 21.41c.39.39.9.59 1.41.59.51 0 1.02-.2 1.41-.59l7.78-7.78 2.81-2.81c.8-.78.8-2.07 0-2.86zM5.41 20L4 18.59l7.72-7.72 1.47 1.35L5.41 20z\"/>\n",
              "  </svg>\n",
              "      </button>\n",
              "      \n",
              "  <style>\n",
              "    .colab-df-container {\n",
              "      display:flex;\n",
              "      flex-wrap:wrap;\n",
              "      gap: 12px;\n",
              "    }\n",
              "\n",
              "    .colab-df-convert {\n",
              "      background-color: #E8F0FE;\n",
              "      border: none;\n",
              "      border-radius: 50%;\n",
              "      cursor: pointer;\n",
              "      display: none;\n",
              "      fill: #1967D2;\n",
              "      height: 32px;\n",
              "      padding: 0 0 0 0;\n",
              "      width: 32px;\n",
              "    }\n",
              "\n",
              "    .colab-df-convert:hover {\n",
              "      background-color: #E2EBFA;\n",
              "      box-shadow: 0px 1px 2px rgba(60, 64, 67, 0.3), 0px 1px 3px 1px rgba(60, 64, 67, 0.15);\n",
              "      fill: #174EA6;\n",
              "    }\n",
              "\n",
              "    [theme=dark] .colab-df-convert {\n",
              "      background-color: #3B4455;\n",
              "      fill: #D2E3FC;\n",
              "    }\n",
              "\n",
              "    [theme=dark] .colab-df-convert:hover {\n",
              "      background-color: #434B5C;\n",
              "      box-shadow: 0px 1px 3px 1px rgba(0, 0, 0, 0.15);\n",
              "      filter: drop-shadow(0px 1px 2px rgba(0, 0, 0, 0.3));\n",
              "      fill: #FFFFFF;\n",
              "    }\n",
              "  </style>\n",
              "\n",
              "      <script>\n",
              "        const buttonEl =\n",
              "          document.querySelector('#df-25ec609e-e9f0-4b47-8d6a-4cb4c93ac929 button.colab-df-convert');\n",
              "        buttonEl.style.display =\n",
              "          google.colab.kernel.accessAllowed ? 'block' : 'none';\n",
              "\n",
              "        async function convertToInteractive(key) {\n",
              "          const element = document.querySelector('#df-25ec609e-e9f0-4b47-8d6a-4cb4c93ac929');\n",
              "          const dataTable =\n",
              "            await google.colab.kernel.invokeFunction('convertToInteractive',\n",
              "                                                     [key], {});\n",
              "          if (!dataTable) return;\n",
              "\n",
              "          const docLinkHtml = 'Like what you see? Visit the ' +\n",
              "            '<a target=\"_blank\" href=https://colab.research.google.com/notebooks/data_table.ipynb>data table notebook</a>'\n",
              "            + ' to learn more about interactive tables.';\n",
              "          element.innerHTML = '';\n",
              "          dataTable['output_type'] = 'display_data';\n",
              "          await google.colab.output.renderOutput(dataTable, element);\n",
              "          const docLink = document.createElement('div');\n",
              "          docLink.innerHTML = docLinkHtml;\n",
              "          element.appendChild(docLink);\n",
              "        }\n",
              "      </script>\n",
              "    </div>\n",
              "  </div>\n",
              "  "
            ]
          },
          "metadata": {},
          "execution_count": 18
        }
      ]
    },
    {
      "cell_type": "markdown",
      "source": [
        "## Hyper parameter tuning of Light Gradient Boosting model"
      ],
      "metadata": {
        "id": "QLCdg_CZ47H1"
      }
    },
    {
      "cell_type": "code",
      "source": [
        "param_search = {'num_leaves':[20,30,40,50,60,70,80,90,100], 'max_depth':[3,4,5,6,7,8,9,10], 'min_data_in_leaf':[4,5,6,7,8,9,10]}\n",
        "tscv = TimeSeriesSplit(n_splits=3)\n",
        "gsearch = GridSearchCV(estimator=LGBMRegressor(), cv=tscv,\n",
        "                        param_grid=param_search, scoring ='r2')\n",
        "gsearch.fit(X, y)"
      ],
      "metadata": {
        "colab": {
          "base_uri": "https://localhost:8080/"
        },
        "id": "mNOXUIQZlGm1",
        "outputId": "377124e9-466d-46a6-e089-69ee933e802d"
      },
      "execution_count": 27,
      "outputs": [
        {
          "output_type": "execute_result",
          "data": {
            "text/plain": [
              "GridSearchCV(cv=TimeSeriesSplit(gap=0, max_train_size=None, n_splits=3, test_size=None),\n",
              "             estimator=LGBMRegressor(),\n",
              "             param_grid={'max_depth': [3, 4, 5, 6, 7, 8, 9, 10],\n",
              "                         'min_data_in_leaf': [4, 5, 6, 7, 8, 9, 10],\n",
              "                         'num_leaves': [20, 30, 40, 50, 60, 70, 80, 90, 100]},\n",
              "             scoring='r2')"
            ]
          },
          "metadata": {},
          "execution_count": 27
        }
      ]
    },
    {
      "cell_type": "code",
      "source": [
        "gsearch.best_score_\n"
      ],
      "metadata": {
        "colab": {
          "base_uri": "https://localhost:8080/"
        },
        "id": "Q_fuYwOoly17",
        "outputId": "dba9983b-b6db-4d1a-c072-4bcb853c185c"
      },
      "execution_count": 28,
      "outputs": [
        {
          "output_type": "execute_result",
          "data": {
            "text/plain": [
              "0.8890538636174875"
            ]
          },
          "metadata": {},
          "execution_count": 28
        }
      ]
    },
    {
      "cell_type": "code",
      "source": [
        "gsearch.best_params_\n"
      ],
      "metadata": {
        "colab": {
          "base_uri": "https://localhost:8080/"
        },
        "id": "1yGZowtzn_Ya",
        "outputId": "bf059fba-0a08-4797-db5c-f4bcc983fdd6"
      },
      "execution_count": 29,
      "outputs": [
        {
          "output_type": "execute_result",
          "data": {
            "text/plain": [
              "{'max_depth': 9, 'min_data_in_leaf': 6, 'num_leaves': 80}"
            ]
          },
          "metadata": {},
          "execution_count": 29
        }
      ]
    },
    {
      "cell_type": "code",
      "source": [
        "lightgbm.plot_importance(gsearch.best_estimator_, figsize = (16,16))"
      ],
      "metadata": {
        "colab": {
          "base_uri": "https://localhost:8080/",
          "height": 966
        },
        "id": "HV0oUhlPEfVQ",
        "outputId": "428e4305-55da-4c1e-8f61-04239a02a68a"
      },
      "execution_count": 40,
      "outputs": [
        {
          "output_type": "execute_result",
          "data": {
            "text/plain": [
              "<matplotlib.axes._subplots.AxesSubplot at 0x7f94b17ca050>"
            ]
          },
          "metadata": {},
          "execution_count": 40
        },
        {
          "output_type": "display_data",
          "data": {
            "text/plain": [
              "<Figure size 1152x1152 with 1 Axes>"
            ],
            "image/png": "[encoded data removed]"
          },
          "metadata": {
            "needs_background": "light"
          }
        }
      ]
    },
    {
      "cell_type": "code",
      "source": [
        "feature_names = X.columns\n",
        "feature_values = gsearch.best_estimator_.feature_importances_\n",
        "feature_importance = pd.DataFrame({'features': feature_names, 'importance': feature_values})\n",
        "\n",
        "\n",
        "feature_importance.sort_values(by ='importance', ascending = False, inplace = True)\n",
        "\n",
        "feature_importance[:5]"
      ],
      "metadata": {
        "colab": {
          "base_uri": "https://localhost:8080/",
          "height": 206
        },
        "id": "LKD4xLuv9LtT",
        "outputId": "3e6a505e-dffe-4481-8981-085db28e700d"
      },
      "execution_count": 42,
      "outputs": [
        {
          "output_type": "execute_result",
          "data": {
            "text/plain": [
              "               features  importance\n",
              "1       remaining_lease        1770\n",
              "0        floor_area_sqm        1153\n",
              "5           dist to cbd        1100\n",
              "2   dist to nearest mrt         762\n",
              "4  dist to nearest mall         620"
            ],
            "text/html": [
              "\n",
              "  <div id=\"df-df6825a7-7b53-4ae7-9edd-ff16daf3af3b\">\n",
              "    <div class=\"colab-df-container\">\n",
              "      <div>\n",
              "<style scoped>\n",
              "    .dataframe tbody tr th:only-of-type {\n",
              "        vertical-align: middle;\n",
              "    }\n",
              "\n",
              "    .dataframe tbody tr th {\n",
              "        vertical-align: top;\n",
              "    }\n",
              "\n",
              "    .dataframe thead th {\n",
              "        text-align: right;\n",
              "    }\n",
              "</style>\n",
              "<table border=\"1\" class=\"dataframe\">\n",
              "  <thead>\n",
              "    <tr style=\"text-align: right;\">\n",
              "      <th></th>\n",
              "      <th>features</th>\n",
              "      <th>importance</th>\n",
              "    </tr>\n",
              "  </thead>\n",
              "  <tbody>\n",
              "    <tr>\n",
              "      <th>1</th>\n",
              "      <td>remaining_lease</td>\n",
              "      <td>1770</td>\n",
              "    </tr>\n",
              "    <tr>\n",
              "      <th>0</th>\n",
              "      <td>floor_area_sqm</td>\n",
              "      <td>1153</td>\n",
              "    </tr>\n",
              "    <tr>\n",
              "      <th>5</th>\n",
              "      <td>dist to cbd</td>\n",
              "      <td>1100</td>\n",
              "    </tr>\n",
              "    <tr>\n",
              "      <th>2</th>\n",
              "      <td>dist to nearest mrt</td>\n",
              "      <td>762</td>\n",
              "    </tr>\n",
              "    <tr>\n",
              "      <th>4</th>\n",
              "      <td>dist to nearest mall</td>\n",
              "      <td>620</td>\n",
              "    </tr>\n",
              "  </tbody>\n",
              "</table>\n",
              "</div>\n",
              "      <button class=\"colab-df-convert\" onclick=\"convertToInteractive('df-df6825a7-7b53-4ae7-9edd-ff16daf3af3b')\"\n",
              "              title=\"Convert this dataframe to an interactive table.\"\n",
              "              style=\"display:none;\">\n",
              "        \n",
              "  <svg xmlns=\"http://www.w3.org/2000/svg\" height=\"24px\"viewBox=\"0 0 24 24\"\n",
              "       width=\"24px\">\n",
              "    <path d=\"M0 0h24v24H0V0z\" fill=\"none\"/>\n",
              "    <path d=\"M18.56 5.44l.94 2.06.94-2.06 2.06-.94-2.06-.94-.94-2.06-.94 2.06-2.06.94zm-11 1L8.5 8.5l.94-2.06 2.06-.94-2.06-.94L8.5 2.5l-.94 2.06-2.06.94zm10 10l.94 2.06.94-2.06 2.06-.94-2.06-.94-.94-2.06-.94 2.06-2.06.94z\"/><path d=\"M17.41 7.96l-1.37-1.37c-.4-.4-.92-.59-1.43-.59-.52 0-1.04.2-1.43.59L10.3 9.45l-7.72 7.72c-.78.78-.78 2.05 0 2.83L4 21.41c.39.39.9.59 1.41.59.51 0 1.02-.2 1.41-.59l7.78-7.78 2.81-2.81c.8-.78.8-2.07 0-2.86zM5.41 20L4 18.59l7.72-7.72 1.47 1.35L5.41 20z\"/>\n",
              "  </svg>\n",
              "      </button>\n",
              "      \n",
              "  <style>\n",
              "    .colab-df-container {\n",
              "      display:flex;\n",
              "      flex-wrap:wrap;\n",
              "      gap: 12px;\n",
              "    }\n",
              "\n",
              "    .colab-df-convert {\n",
              "      background-color: #E8F0FE;\n",
              "      border: none;\n",
              "      border-radius: 50%;\n",
              "      cursor: pointer;\n",
              "      display: none;\n",
              "      fill: #1967D2;\n",
              "      height: 32px;\n",
              "      padding: 0 0 0 0;\n",
              "      width: 32px;\n",
              "    }\n",
              "\n",
              "    .colab-df-convert:hover {\n",
              "      background-color: #E2EBFA;\n",
              "      box-shadow: 0px 1px 2px rgba(60, 64, 67, 0.3), 0px 1px 3px 1px rgba(60, 64, 67, 0.15);\n",
              "      fill: #174EA6;\n",
              "    }\n",
              "\n",
              "    [theme=dark] .colab-df-convert {\n",
              "      background-color: #3B4455;\n",
              "      fill: #D2E3FC;\n",
              "    }\n",
              "\n",
              "    [theme=dark] .colab-df-convert:hover {\n",
              "      background-color: #434B5C;\n",
              "      box-shadow: 0px 1px 3px 1px rgba(0, 0, 0, 0.15);\n",
              "      filter: drop-shadow(0px 1px 2px rgba(0, 0, 0, 0.3));\n",
              "      fill: #FFFFFF;\n",
              "    }\n",
              "  </style>\n",
              "\n",
              "      <script>\n",
              "        const buttonEl =\n",
              "          document.querySelector('#df-df6825a7-7b53-4ae7-9edd-ff16daf3af3b button.colab-df-convert');\n",
              "        buttonEl.style.display =\n",
              "          google.colab.kernel.accessAllowed ? 'block' : 'none';\n",
              "\n",
              "        async function convertToInteractive(key) {\n",
              "          const element = document.querySelector('#df-df6825a7-7b53-4ae7-9edd-ff16daf3af3b');\n",
              "          const dataTable =\n",
              "            await google.colab.kernel.invokeFunction('convertToInteractive',\n",
              "                                                     [key], {});\n",
              "          if (!dataTable) return;\n",
              "\n",
              "          const docLinkHtml = 'Like what you see? Visit the ' +\n",
              "            '<a target=\"_blank\" href=https://colab.research.google.com/notebooks/data_table.ipynb>data table notebook</a>'\n",
              "            + ' to learn more about interactive tables.';\n",
              "          element.innerHTML = '';\n",
              "          dataTable['output_type'] = 'display_data';\n",
              "          await google.colab.output.renderOutput(dataTable, element);\n",
              "          const docLink = document.createElement('div');\n",
              "          docLink.innerHTML = docLinkHtml;\n",
              "          element.appendChild(docLink);\n",
              "        }\n",
              "      </script>\n",
              "    </div>\n",
              "  </div>\n",
              "  "
            ]
          },
          "metadata": {},
          "execution_count": 42
        }
      ]
    },
    {
      "cell_type": "code",
      "source": [
        ""
      ],
      "metadata": {
        "id": "0Iugoh7kIlo_"
      },
      "execution_count": null,
      "outputs": []
    }
  ]
}